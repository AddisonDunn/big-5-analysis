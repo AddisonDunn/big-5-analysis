{
 "cells": [
  {
   "cell_type": "code",
   "execution_count": 1,
   "id": "27220496",
   "metadata": {},
   "outputs": [],
   "source": [
    "import os, sys\n",
    "import numpy as np \n",
    "%matplotlib inline\n",
    "import matplotlib.pyplot as plt\n",
    "import pandas as pd\n",
    "import mglearn\n",
    "from sklearn.model_selection import train_test_split\n",
    "from IPython.display import display\n",
    "from sklearn.linear_model import LogisticRegression\n",
    "from sklearn.svm import LinearSVC"
   ]
  },
  {
   "cell_type": "code",
   "execution_count": 2,
   "id": "90476653",
   "metadata": {},
   "outputs": [
    {
     "data": {
      "text/html": [
       "<div>\n",
       "<style scoped>\n",
       "    .dataframe tbody tr th:only-of-type {\n",
       "        vertical-align: middle;\n",
       "    }\n",
       "\n",
       "    .dataframe tbody tr th {\n",
       "        vertical-align: top;\n",
       "    }\n",
       "\n",
       "    .dataframe thead th {\n",
       "        text-align: right;\n",
       "    }\n",
       "</style>\n",
       "<table border=\"1\" class=\"dataframe\">\n",
       "  <thead>\n",
       "    <tr style=\"text-align: right;\">\n",
       "      <th></th>\n",
       "      <th>race</th>\n",
       "      <th>age</th>\n",
       "      <th>engnat</th>\n",
       "      <th>gender</th>\n",
       "      <th>hand</th>\n",
       "      <th>source</th>\n",
       "      <th>country</th>\n",
       "      <th>E1</th>\n",
       "      <th>E2</th>\n",
       "      <th>E3</th>\n",
       "      <th>...</th>\n",
       "      <th>O1</th>\n",
       "      <th>O2</th>\n",
       "      <th>O3</th>\n",
       "      <th>O4</th>\n",
       "      <th>O5</th>\n",
       "      <th>O6</th>\n",
       "      <th>O7</th>\n",
       "      <th>O8</th>\n",
       "      <th>O9</th>\n",
       "      <th>O10</th>\n",
       "    </tr>\n",
       "  </thead>\n",
       "  <tbody>\n",
       "    <tr>\n",
       "      <th>0</th>\n",
       "      <td>3</td>\n",
       "      <td>53</td>\n",
       "      <td>1</td>\n",
       "      <td>1</td>\n",
       "      <td>1</td>\n",
       "      <td>1</td>\n",
       "      <td>US</td>\n",
       "      <td>4</td>\n",
       "      <td>2</td>\n",
       "      <td>5</td>\n",
       "      <td>...</td>\n",
       "      <td>4</td>\n",
       "      <td>1</td>\n",
       "      <td>3</td>\n",
       "      <td>1</td>\n",
       "      <td>5</td>\n",
       "      <td>1</td>\n",
       "      <td>4</td>\n",
       "      <td>2</td>\n",
       "      <td>5</td>\n",
       "      <td>5</td>\n",
       "    </tr>\n",
       "    <tr>\n",
       "      <th>1</th>\n",
       "      <td>13</td>\n",
       "      <td>46</td>\n",
       "      <td>1</td>\n",
       "      <td>2</td>\n",
       "      <td>1</td>\n",
       "      <td>1</td>\n",
       "      <td>US</td>\n",
       "      <td>2</td>\n",
       "      <td>2</td>\n",
       "      <td>3</td>\n",
       "      <td>...</td>\n",
       "      <td>3</td>\n",
       "      <td>3</td>\n",
       "      <td>3</td>\n",
       "      <td>3</td>\n",
       "      <td>2</td>\n",
       "      <td>3</td>\n",
       "      <td>3</td>\n",
       "      <td>1</td>\n",
       "      <td>3</td>\n",
       "      <td>2</td>\n",
       "    </tr>\n",
       "    <tr>\n",
       "      <th>2</th>\n",
       "      <td>1</td>\n",
       "      <td>14</td>\n",
       "      <td>2</td>\n",
       "      <td>2</td>\n",
       "      <td>1</td>\n",
       "      <td>1</td>\n",
       "      <td>PK</td>\n",
       "      <td>5</td>\n",
       "      <td>1</td>\n",
       "      <td>1</td>\n",
       "      <td>...</td>\n",
       "      <td>4</td>\n",
       "      <td>5</td>\n",
       "      <td>5</td>\n",
       "      <td>1</td>\n",
       "      <td>5</td>\n",
       "      <td>1</td>\n",
       "      <td>5</td>\n",
       "      <td>5</td>\n",
       "      <td>5</td>\n",
       "      <td>5</td>\n",
       "    </tr>\n",
       "    <tr>\n",
       "      <th>3</th>\n",
       "      <td>3</td>\n",
       "      <td>19</td>\n",
       "      <td>2</td>\n",
       "      <td>2</td>\n",
       "      <td>1</td>\n",
       "      <td>1</td>\n",
       "      <td>RO</td>\n",
       "      <td>2</td>\n",
       "      <td>5</td>\n",
       "      <td>2</td>\n",
       "      <td>...</td>\n",
       "      <td>4</td>\n",
       "      <td>3</td>\n",
       "      <td>5</td>\n",
       "      <td>2</td>\n",
       "      <td>4</td>\n",
       "      <td>2</td>\n",
       "      <td>5</td>\n",
       "      <td>2</td>\n",
       "      <td>5</td>\n",
       "      <td>5</td>\n",
       "    </tr>\n",
       "    <tr>\n",
       "      <th>4</th>\n",
       "      <td>11</td>\n",
       "      <td>25</td>\n",
       "      <td>2</td>\n",
       "      <td>2</td>\n",
       "      <td>1</td>\n",
       "      <td>2</td>\n",
       "      <td>US</td>\n",
       "      <td>3</td>\n",
       "      <td>1</td>\n",
       "      <td>3</td>\n",
       "      <td>...</td>\n",
       "      <td>3</td>\n",
       "      <td>1</td>\n",
       "      <td>1</td>\n",
       "      <td>1</td>\n",
       "      <td>3</td>\n",
       "      <td>1</td>\n",
       "      <td>3</td>\n",
       "      <td>1</td>\n",
       "      <td>5</td>\n",
       "      <td>3</td>\n",
       "    </tr>\n",
       "  </tbody>\n",
       "</table>\n",
       "<p>5 rows × 57 columns</p>\n",
       "</div>"
      ],
      "text/plain": [
       "   race  age  engnat  gender  hand  source country  E1  E2  E3  ...  O1  O2  \\\n",
       "0     3   53       1       1     1       1      US   4   2   5  ...   4   1   \n",
       "1    13   46       1       2     1       1      US   2   2   3  ...   3   3   \n",
       "2     1   14       2       2     1       1      PK   5   1   1  ...   4   5   \n",
       "3     3   19       2       2     1       1      RO   2   5   2  ...   4   3   \n",
       "4    11   25       2       2     1       2      US   3   1   3  ...   3   1   \n",
       "\n",
       "   O3  O4  O5  O6  O7  O8  O9  O10  \n",
       "0   3   1   5   1   4   2   5    5  \n",
       "1   3   3   2   3   3   1   3    2  \n",
       "2   5   1   5   1   5   5   5    5  \n",
       "3   5   2   4   2   5   2   5    5  \n",
       "4   1   1   3   1   3   1   5    3  \n",
       "\n",
       "[5 rows x 57 columns]"
      ]
     },
     "execution_count": 2,
     "metadata": {},
     "output_type": "execute_result"
    }
   ],
   "source": [
    "# Load from CSV file\n",
    "data_filename = \"../Big-5-Data/data.csv\"\n",
    "main_df = pd.read_csv(data_filename, sep='\\t')\n",
    "main_df.head()"
   ]
  },
  {
   "cell_type": "code",
   "execution_count": 3,
   "id": "864a9e80",
   "metadata": {},
   "outputs": [
    {
     "data": {
      "text/html": [
       "<div>\n",
       "<style scoped>\n",
       "    .dataframe tbody tr th:only-of-type {\n",
       "        vertical-align: middle;\n",
       "    }\n",
       "\n",
       "    .dataframe tbody tr th {\n",
       "        vertical-align: top;\n",
       "    }\n",
       "\n",
       "    .dataframe thead th {\n",
       "        text-align: right;\n",
       "    }\n",
       "</style>\n",
       "<table border=\"1\" class=\"dataframe\">\n",
       "  <thead>\n",
       "    <tr style=\"text-align: right;\">\n",
       "      <th></th>\n",
       "      <th>E</th>\n",
       "      <th>N</th>\n",
       "      <th>A</th>\n",
       "      <th>C</th>\n",
       "      <th>O</th>\n",
       "    </tr>\n",
       "  </thead>\n",
       "  <tbody>\n",
       "    <tr>\n",
       "      <th>0</th>\n",
       "      <td>3.2</td>\n",
       "      <td>1.9</td>\n",
       "      <td>3.2</td>\n",
       "      <td>3.1</td>\n",
       "      <td>3.1</td>\n",
       "    </tr>\n",
       "    <tr>\n",
       "      <th>1</th>\n",
       "      <td>2.8</td>\n",
       "      <td>2.9</td>\n",
       "      <td>3.1</td>\n",
       "      <td>2.8</td>\n",
       "      <td>2.6</td>\n",
       "    </tr>\n",
       "    <tr>\n",
       "      <th>2</th>\n",
       "      <td>2.9</td>\n",
       "      <td>4.6</td>\n",
       "      <td>3.8</td>\n",
       "      <td>3.3</td>\n",
       "      <td>4.1</td>\n",
       "    </tr>\n",
       "    <tr>\n",
       "      <th>3</th>\n",
       "      <td>3.6</td>\n",
       "      <td>4.3</td>\n",
       "      <td>3.7</td>\n",
       "      <td>3.4</td>\n",
       "      <td>3.7</td>\n",
       "    </tr>\n",
       "    <tr>\n",
       "      <th>4</th>\n",
       "      <td>2.6</td>\n",
       "      <td>3.2</td>\n",
       "      <td>4.0</td>\n",
       "      <td>2.6</td>\n",
       "      <td>2.2</td>\n",
       "    </tr>\n",
       "  </tbody>\n",
       "</table>\n",
       "</div>"
      ],
      "text/plain": [
       "     E    N    A    C    O\n",
       "0  3.2  1.9  3.2  3.1  3.1\n",
       "1  2.8  2.9  3.1  2.8  2.6\n",
       "2  2.9  4.6  3.8  3.3  4.1\n",
       "3  3.6  4.3  3.7  3.4  3.7\n",
       "4  2.6  3.2  4.0  2.6  2.2"
      ]
     },
     "execution_count": 3,
     "metadata": {},
     "output_type": "execute_result"
    }
   ],
   "source": [
    "# Copy the personality data.\n",
    "big5_df = main_df.iloc[:, 7:].copy()\n",
    "# Average 10 extraversion answers, neuroticism answers, etc. and put averages into a new table.\n",
    "big5_df = big5_df.groupby(np.arange(len(big5_df.columns))//10, axis=1).mean()\n",
    "# Rename columns that got lost in averaging\n",
    "big5_df.columns = ['E', 'N', 'A', 'C', 'O']\n",
    "# We now have averages of the big 5 personality traits and appropriate scores for each\n",
    "big5_df.head()"
   ]
  },
  {
   "cell_type": "code",
   "execution_count": 4,
   "id": "721083de",
   "metadata": {},
   "outputs": [],
   "source": [
    "# Get the gender column (which will be our target)\n",
    "gender = main_df.gender\n",
    "# Split and shuffle the data for training and testing\n",
    "X_train, X_test, y_train, y_test = train_test_split(big5_df, gender, stratify=gender, random_state=42)"
   ]
  },
  {
   "cell_type": "code",
   "execution_count": 5,
   "id": "d4720006",
   "metadata": {},
   "outputs": [
    {
     "name": "stdout",
     "output_type": "stream",
     "text": [
      "Training set score: 0.626\n",
      "Test set score: 0.627\n"
     ]
    }
   ],
   "source": [
    "# A logistic regression model used for simple classification. We'll use an L1 regularization because \n",
    "#  we want to know what to know which features are driving the prediction (clear box instead of black box).\n",
    "#  The \"saga\" solver can handle L2 regularization and and is faster for large datasets. \n",
    "logreg = LogisticRegression(penalty=\"l1\", C=1, solver='liblinear').fit(X_train, y_train)\n",
    "print(\"Training set score: {:.3f}\".format(logreg.score(X_train, y_train)))\n",
    "print(\"Test set score: {:.3f}\".format(logreg.score(X_test, y_test)))"
   ]
  },
  {
   "cell_type": "code",
   "execution_count": 6,
   "id": "fdbbc86d",
   "metadata": {},
   "outputs": [],
   "source": [
    "# The R-squared is poor. But since our training score is relatively close to our test score, we know that \n",
    "#  we're probably underfitting. We can decrease the strength of regularization with the C parameter to try \n",
    "#  and make our model more accurate."
   ]
  },
  {
   "cell_type": "code",
   "execution_count": 7,
   "id": "1f607d0b",
   "metadata": {},
   "outputs": [
    {
     "name": "stdout",
     "output_type": "stream",
     "text": [
      "Training set score: 0.626\n",
      "Test set score: 0.628\n"
     ]
    }
   ],
   "source": [
    "logreg_attempt_2 = LogisticRegression(penalty=\"l1\", C=100, solver='liblinear').fit(X_train, y_train)\n",
    "print(\"Training set score: {:.3f}\".format(logreg_attempt_2.score(X_train, y_train)))\n",
    "print(\"Test set score: {:.3f}\".format(logreg_attempt_2.score(X_test, y_test)))"
   ]
  },
  {
   "cell_type": "code",
   "execution_count": 8,
   "id": "536f18c6",
   "metadata": {},
   "outputs": [
    {
     "name": "stdout",
     "output_type": "stream",
     "text": [
      "Training set score: 0.620\n",
      "Test set score: 0.619\n"
     ]
    }
   ],
   "source": [
    "# Not much of an effect. For a sanity check, let's make sure that the parameter is at least having some effect\n",
    "#  by lowering the value of C.\n",
    "logreg_attempt_3 = LogisticRegression(penalty=\"l1\", C=0.01, solver='liblinear').fit(X_train, y_train)\n",
    "print(\"Training set score: {:.3f}\".format(logreg_attempt_3.score(X_train, y_train)))\n",
    "print(\"Test set score: {:.3f}\".format(logreg_attempt_3.score(X_test, y_test)))"
   ]
  },
  {
   "cell_type": "code",
   "execution_count": 9,
   "id": "9f189f6e",
   "metadata": {},
   "outputs": [
    {
     "name": "stdout",
     "output_type": "stream",
     "text": [
      "[[-0.56893341 -0.91497448 -0.74192992  0.          0.        ]\n",
      " [ 0.57754677 -0.41155548 -0.43954702 -0.26945119  0.52702022]\n",
      " [-0.5592982   0.40172562  0.45307966  0.26153711 -0.54679189]\n",
      " [-0.64570648  0.43756457 -0.6506532   0.          0.67160537]]\n"
     ]
    }
   ],
   "source": [
    "# We can see that the change of C has an effect when we lower it, and a bad one! I don't think we'll do much better\n",
    "#  with this logistic regression model.\n",
    "#  Now let's see what's driving the prediction:\n",
    "print(logreg.coef_)"
   ]
  },
  {
   "cell_type": "code",
   "execution_count": 10,
   "id": "a00816e9",
   "metadata": {},
   "outputs": [],
   "source": [
    "# That's weird. Because it's a simple linear model with 2 classes (2 genders), it should have just one set \n",
    "#  of coefficients (and we have 4). But if we look closer at a description of the data we can see:\n",
    "#  \"gender\tChosen from a drop down menu. 1=Male, 2=Female, 3=Other (0=missed)\"\n",
    "#  Aha! There are actually 4 different classes, making this a multiclass classification problem. The algorithm\n",
    "#  used the \"one-vs-rest\" approach, attempting to distinguish each class from the rest using 4 different lines."
   ]
  },
  {
   "cell_type": "code",
   "execution_count": 11,
   "id": "79ba4bbd",
   "metadata": {},
   "outputs": [
    {
     "name": "stdout",
     "output_type": "stream",
     "text": [
      "Prediction for high and N:  [2]\n",
      "Prediction for low in N:  [1]\n"
     ]
    }
   ],
   "source": [
    "# This is good, because now we can see what variables are driving the prediction. But first, let's make sure our \n",
    "#  predictions make sense. The big 5 trait correlations with gender tends to change across different studies. \n",
    "#  But most consistently, women rate higher in Nueroticism (N). So let's test predictions for a high and low N\n",
    "#  individual who is otherwise average:\n",
    "print(\"Prediction for high and N: \", logreg.predict(np.array([2.5,5,2.5,2.5,2.5]).reshape(1,-1)))\n",
    "# And then a prediction for someone average in other features but low in the 2 that matter:\n",
    "print(\"Prediction for low in N: \", logreg.predict(np.array([2.5,1,2.5,2.5,2.5]).reshape(1,-1)))"
   ]
  },
  {
   "cell_type": "code",
   "execution_count": 12,
   "id": "ea684fb7",
   "metadata": {},
   "outputs": [
    {
     "data": {
      "image/png": "[encoded data removed]",
      "text/plain": [
       "<Figure size 432x288 with 1 Axes>"
      ]
     },
     "metadata": {
      "needs_background": "light"
     },
     "output_type": "display_data"
    },
    {
     "data": {
      "image/png": "[encoded data removed]",
      "text/plain": [
       "<Figure size 432x288 with 1 Axes>"
      ]
     },
     "metadata": {
      "needs_background": "light"
     },
     "output_type": "display_data"
    }
   ],
   "source": [
    "# Success! The person who was higher in N was predicted to be a woman, and a the person lower in N was predicted to \n",
    "# be a man.\n",
    "# Now let's see what the coefficient factors look like for a woman, \n",
    "plt.bar(['E','N','A','C','O'], logreg.coef_[2])\n",
    "plt.title('Big 5 coefficients for a woman')\n",
    "plt.show()\n",
    "plt.bar(['E','N','A','C','O'], logreg.coef_[1])\n",
    "plt.title('Big 5 coefficients for a man')\n",
    "plt.show()"
   ]
  },
  {
   "cell_type": "code",
   "execution_count": 13,
   "id": "f31f3bb9",
   "metadata": {},
   "outputs": [],
   "source": [
    "# Generally, research varies on gender differences within the big 5. But it well-agreed that women are generally \n",
    "#  higher in Neuroticism, so it makes sense that our model has a positive coefficient for women. \n",
    "# Anyone interested in the reserach on gender differences between men and women can checkout this section of \n",
    "#  Wikipedia: https://en.wikipedia.org/wiki/Big_Five_personality_traits#Biological_and_developmental_factors"
   ]
  }
 ],
 "metadata": {
  "kernelspec": {
   "display_name": "Python 3",
   "language": "python",
   "name": "python3"
  },
  "language_info": {
   "codemirror_mode": {
    "name": "ipython",
    "version": 3
   },
   "file_extension": ".py",
   "mimetype": "text/x-python",
   "name": "python",
   "nbconvert_exporter": "python",
   "pygments_lexer": "ipython3",
   "version": "3.8.8"
  }
 },
 "nbformat": 4,
 "nbformat_minor": 5
}
