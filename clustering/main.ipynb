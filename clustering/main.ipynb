{
 "cells": [
  {
   "cell_type": "code",
   "execution_count": 1,
   "id": "085eae57",
   "metadata": {},
   "outputs": [],
   "source": [
    "import pandas as pd\n",
    "import sys\n",
    "import numpy as np\n",
    "import scipy.cluster.hierarchy as shc\n",
    "import matplotlib.pyplot as plt"
   ]
  },
  {
   "cell_type": "code",
   "execution_count": 2,
   "id": "04f82bb6",
   "metadata": {},
   "outputs": [
    {
     "data": {
      "text/html": [
       "<div>\n",
       "<style scoped>\n",
       "    .dataframe tbody tr th:only-of-type {\n",
       "        vertical-align: middle;\n",
       "    }\n",
       "\n",
       "    .dataframe tbody tr th {\n",
       "        vertical-align: top;\n",
       "    }\n",
       "\n",
       "    .dataframe thead th {\n",
       "        text-align: right;\n",
       "    }\n",
       "</style>\n",
       "<table border=\"1\" class=\"dataframe\">\n",
       "  <thead>\n",
       "    <tr style=\"text-align: right;\">\n",
       "      <th></th>\n",
       "      <th>race</th>\n",
       "      <th>age</th>\n",
       "      <th>engnat</th>\n",
       "      <th>gender</th>\n",
       "      <th>hand</th>\n",
       "      <th>source</th>\n",
       "      <th>country</th>\n",
       "      <th>E1</th>\n",
       "      <th>E2</th>\n",
       "      <th>E3</th>\n",
       "      <th>...</th>\n",
       "      <th>O1</th>\n",
       "      <th>O2</th>\n",
       "      <th>O3</th>\n",
       "      <th>O4</th>\n",
       "      <th>O5</th>\n",
       "      <th>O6</th>\n",
       "      <th>O7</th>\n",
       "      <th>O8</th>\n",
       "      <th>O9</th>\n",
       "      <th>O10</th>\n",
       "    </tr>\n",
       "  </thead>\n",
       "  <tbody>\n",
       "    <tr>\n",
       "      <th>0</th>\n",
       "      <td>3</td>\n",
       "      <td>53</td>\n",
       "      <td>1</td>\n",
       "      <td>1</td>\n",
       "      <td>1</td>\n",
       "      <td>1</td>\n",
       "      <td>US</td>\n",
       "      <td>4</td>\n",
       "      <td>2</td>\n",
       "      <td>5</td>\n",
       "      <td>...</td>\n",
       "      <td>4</td>\n",
       "      <td>1</td>\n",
       "      <td>3</td>\n",
       "      <td>1</td>\n",
       "      <td>5</td>\n",
       "      <td>1</td>\n",
       "      <td>4</td>\n",
       "      <td>2</td>\n",
       "      <td>5</td>\n",
       "      <td>5</td>\n",
       "    </tr>\n",
       "    <tr>\n",
       "      <th>1</th>\n",
       "      <td>13</td>\n",
       "      <td>46</td>\n",
       "      <td>1</td>\n",
       "      <td>2</td>\n",
       "      <td>1</td>\n",
       "      <td>1</td>\n",
       "      <td>US</td>\n",
       "      <td>2</td>\n",
       "      <td>2</td>\n",
       "      <td>3</td>\n",
       "      <td>...</td>\n",
       "      <td>3</td>\n",
       "      <td>3</td>\n",
       "      <td>3</td>\n",
       "      <td>3</td>\n",
       "      <td>2</td>\n",
       "      <td>3</td>\n",
       "      <td>3</td>\n",
       "      <td>1</td>\n",
       "      <td>3</td>\n",
       "      <td>2</td>\n",
       "    </tr>\n",
       "    <tr>\n",
       "      <th>2</th>\n",
       "      <td>1</td>\n",
       "      <td>14</td>\n",
       "      <td>2</td>\n",
       "      <td>2</td>\n",
       "      <td>1</td>\n",
       "      <td>1</td>\n",
       "      <td>PK</td>\n",
       "      <td>5</td>\n",
       "      <td>1</td>\n",
       "      <td>1</td>\n",
       "      <td>...</td>\n",
       "      <td>4</td>\n",
       "      <td>5</td>\n",
       "      <td>5</td>\n",
       "      <td>1</td>\n",
       "      <td>5</td>\n",
       "      <td>1</td>\n",
       "      <td>5</td>\n",
       "      <td>5</td>\n",
       "      <td>5</td>\n",
       "      <td>5</td>\n",
       "    </tr>\n",
       "    <tr>\n",
       "      <th>3</th>\n",
       "      <td>3</td>\n",
       "      <td>19</td>\n",
       "      <td>2</td>\n",
       "      <td>2</td>\n",
       "      <td>1</td>\n",
       "      <td>1</td>\n",
       "      <td>RO</td>\n",
       "      <td>2</td>\n",
       "      <td>5</td>\n",
       "      <td>2</td>\n",
       "      <td>...</td>\n",
       "      <td>4</td>\n",
       "      <td>3</td>\n",
       "      <td>5</td>\n",
       "      <td>2</td>\n",
       "      <td>4</td>\n",
       "      <td>2</td>\n",
       "      <td>5</td>\n",
       "      <td>2</td>\n",
       "      <td>5</td>\n",
       "      <td>5</td>\n",
       "    </tr>\n",
       "    <tr>\n",
       "      <th>4</th>\n",
       "      <td>11</td>\n",
       "      <td>25</td>\n",
       "      <td>2</td>\n",
       "      <td>2</td>\n",
       "      <td>1</td>\n",
       "      <td>2</td>\n",
       "      <td>US</td>\n",
       "      <td>3</td>\n",
       "      <td>1</td>\n",
       "      <td>3</td>\n",
       "      <td>...</td>\n",
       "      <td>3</td>\n",
       "      <td>1</td>\n",
       "      <td>1</td>\n",
       "      <td>1</td>\n",
       "      <td>3</td>\n",
       "      <td>1</td>\n",
       "      <td>3</td>\n",
       "      <td>1</td>\n",
       "      <td>5</td>\n",
       "      <td>3</td>\n",
       "    </tr>\n",
       "  </tbody>\n",
       "</table>\n",
       "<p>5 rows × 57 columns</p>\n",
       "</div>"
      ],
      "text/plain": [
       "   race  age  engnat  gender  hand  source country  E1  E2  E3  ...  O1  O2  \\\n",
       "0     3   53       1       1     1       1      US   4   2   5  ...   4   1   \n",
       "1    13   46       1       2     1       1      US   2   2   3  ...   3   3   \n",
       "2     1   14       2       2     1       1      PK   5   1   1  ...   4   5   \n",
       "3     3   19       2       2     1       1      RO   2   5   2  ...   4   3   \n",
       "4    11   25       2       2     1       2      US   3   1   3  ...   3   1   \n",
       "\n",
       "   O3  O4  O5  O6  O7  O8  O9  O10  \n",
       "0   3   1   5   1   4   2   5    5  \n",
       "1   3   3   2   3   3   1   3    2  \n",
       "2   5   1   5   1   5   5   5    5  \n",
       "3   5   2   4   2   5   2   5    5  \n",
       "4   1   1   3   1   3   1   5    3  \n",
       "\n",
       "[5 rows x 57 columns]"
      ]
     },
     "execution_count": 2,
     "metadata": {},
     "output_type": "execute_result"
    }
   ],
   "source": [
    "# Load from CSV file\n",
    "data_filename = \"../Big-5-Data/data.csv\"\n",
    "main_df = pd.read_csv(data_filename, sep='\\t')\n",
    "main_df.head()"
   ]
  },
  {
   "cell_type": "code",
   "execution_count": 3,
   "id": "71774e7a",
   "metadata": {},
   "outputs": [
    {
     "data": {
      "text/html": [
       "<div>\n",
       "<style scoped>\n",
       "    .dataframe tbody tr th:only-of-type {\n",
       "        vertical-align: middle;\n",
       "    }\n",
       "\n",
       "    .dataframe tbody tr th {\n",
       "        vertical-align: top;\n",
       "    }\n",
       "\n",
       "    .dataframe thead th {\n",
       "        text-align: right;\n",
       "    }\n",
       "</style>\n",
       "<table border=\"1\" class=\"dataframe\">\n",
       "  <thead>\n",
       "    <tr style=\"text-align: right;\">\n",
       "      <th></th>\n",
       "      <th>E</th>\n",
       "      <th>N</th>\n",
       "      <th>A</th>\n",
       "      <th>C</th>\n",
       "      <th>O</th>\n",
       "    </tr>\n",
       "  </thead>\n",
       "  <tbody>\n",
       "    <tr>\n",
       "      <th>0</th>\n",
       "      <td>3.2</td>\n",
       "      <td>1.9</td>\n",
       "      <td>3.2</td>\n",
       "      <td>3.1</td>\n",
       "      <td>3.1</td>\n",
       "    </tr>\n",
       "    <tr>\n",
       "      <th>1</th>\n",
       "      <td>2.8</td>\n",
       "      <td>2.9</td>\n",
       "      <td>3.1</td>\n",
       "      <td>2.8</td>\n",
       "      <td>2.6</td>\n",
       "    </tr>\n",
       "    <tr>\n",
       "      <th>2</th>\n",
       "      <td>2.9</td>\n",
       "      <td>4.6</td>\n",
       "      <td>3.8</td>\n",
       "      <td>3.3</td>\n",
       "      <td>4.1</td>\n",
       "    </tr>\n",
       "    <tr>\n",
       "      <th>3</th>\n",
       "      <td>3.6</td>\n",
       "      <td>4.3</td>\n",
       "      <td>3.7</td>\n",
       "      <td>3.4</td>\n",
       "      <td>3.7</td>\n",
       "    </tr>\n",
       "    <tr>\n",
       "      <th>4</th>\n",
       "      <td>2.6</td>\n",
       "      <td>3.2</td>\n",
       "      <td>4.0</td>\n",
       "      <td>2.6</td>\n",
       "      <td>2.2</td>\n",
       "    </tr>\n",
       "  </tbody>\n",
       "</table>\n",
       "</div>"
      ],
      "text/plain": [
       "     E    N    A    C    O\n",
       "0  3.2  1.9  3.2  3.1  3.1\n",
       "1  2.8  2.9  3.1  2.8  2.6\n",
       "2  2.9  4.6  3.8  3.3  4.1\n",
       "3  3.6  4.3  3.7  3.4  3.7\n",
       "4  2.6  3.2  4.0  2.6  2.2"
      ]
     },
     "execution_count": 3,
     "metadata": {},
     "output_type": "execute_result"
    }
   ],
   "source": [
    "# Copy the personality data.\n",
    "big5_df = main_df.iloc[:, 7:].copy()\n",
    "# Average 10 extraversion answers, neuroticism answers, etc. and put averages into a new table.\n",
    "big5_df = big5_df.groupby(np.arange(len(big5_df.columns))//10, axis=1).mean()\n",
    "# Rename columns that got lost in averaging\n",
    "big5_df.columns = ['E', 'N', 'A', 'C', 'O']\n",
    "# We now have averages of the big 5 personality traits and appropriate scores for each.\n",
    "big5_df.head()"
   ]
  },
  {
   "cell_type": "code",
   "execution_count": 4,
   "id": "00269772",
   "metadata": {},
   "outputs": [],
   "source": [
    "from visualization import generateScatterPlot\n",
    "# Let's use a custom method from visualization.py to the 5 features against each other (opens in a new tab). \n",
    "#  Notice any patterns? Darkness of blue is represented by openness and size of the marker is represented \n",
    "#  by consciousness. Note we're just using 150 samples for a clean view.\n",
    "generateScatterPlot(\"5D-Big-5-Plot.html\", big5_df, 150, 1.5)"
   ]
  },
  {
   "cell_type": "code",
   "execution_count": 5,
   "id": "abbb6abf",
   "metadata": {},
   "outputs": [],
   "source": [
    "# We can use a dendogram to figure out what number of clusters best represents the data.\n",
    "# plt.figure(figsize=(10, 7))\n",
    "# plt.title(\"Cluster Dendograms\")\n",
    "# dend = shc.dendrogram(shc.linkage(big5_df, method='ward'))"
   ]
  },
  {
   "cell_type": "code",
   "execution_count": 6,
   "id": "9e4f6550",
   "metadata": {},
   "outputs": [],
   "source": [
    "# plt.show()\n",
    "# The plot display takes a while to run (and is tedious to reproduce more than once without a lot of computing power),\n",
    "#  so I'll just include an image here for you: https://imgur.com/a/Hdeea94.\n",
    "# As we can tell from the dendogram, the longest length lines without a break, and thus number of clusters with\n",
    "#  the greatest difference between them, occurs at 2 clusters. 5 different clusters would be a poor amount to choose because bridged differences\n",
    "#  are not as high (and thus the clusters are not as distinct). We want to have more than 2 groups (not as fun!), so\n",
    "#  we'll try having 4 different clusters."
   ]
  },
  {
   "cell_type": "code",
   "execution_count": 7,
   "id": "50ebe74b",
   "metadata": {},
   "outputs": [
    {
     "name": "stdout",
     "output_type": "stream",
     "text": [
      "[[2.94021649 3.39631557 3.06378018 2.92805995 3.0636761 ]\n",
      " [3.18235854 2.95705849 3.29742808 3.32267098 3.47250905]\n",
      " [3.0499625  2.28773903 3.09415073 2.99820022 3.2355643 ]\n",
      " [3.13234072 3.92285319 3.38506464 3.39542936 3.49374423]]\n"
     ]
    }
   ],
   "source": [
    "# We'll use the KMeans algorithm for clustering. It will find \"cluster centers\" where we might find higher densities\n",
    "#  of data points. Those high densities might point towards personality \"types\", where people of similar traits\n",
    "#  can be found in number.\n",
    "from sklearn.cluster import KMeans\n",
    "kmeans = KMeans(n_clusters = 4)\n",
    "kmeans.fit(big5_df)\n",
    "print(kmeans.cluster_centers_)"
   ]
  },
  {
   "cell_type": "code",
   "execution_count": 8,
   "id": "ec63b2a8",
   "metadata": {},
   "outputs": [
    {
     "name": "stdout",
     "output_type": "stream",
     "text": [
      "                E         N         A         C         O\n",
      "Class 1 -1.483886  0.425781 -1.082466 -1.158439 -1.422520\n",
      "Class 2  1.158048 -0.306729  0.645978  0.803250  0.878941\n",
      "Class 3 -0.286482 -1.422894 -0.857795 -0.809758 -0.454902\n",
      "Class 4  0.612320  1.303841  1.294283  1.164947  0.998481\n"
     ]
    }
   ],
   "source": [
    "# Now that we've got our cluster centers, we're going to transform them to make them a bit more readable. The \n",
    "#  StandardScalar is usually used for processing data before supervised learning, but here it works well to \n",
    "#  help us visualize and understand the data better. It transforms our data such that the mean for all 4 points\n",
    "#  is zero and the the variance is 1. \n",
    "from sklearn.preprocessing import StandardScaler\n",
    "scaler = StandardScaler()\n",
    "scaler.fit(kmeans.cluster_centers_)\n",
    "transformed_cluster_centers = scaler.transform(kmeans.cluster_centers_)\n",
    "# Put into a dataframe for readability and plotting.\n",
    "class_names = [\"Class 1\", \"Class 2\", \"Class 3\", \"Class 4\"]\n",
    "cluster_centers_df = pd.DataFrame(data=transformed_cluster_centers, index=class_names, columns=big5_df.columns)\n",
    "print(cluster_centers_df)\n"
   ]
  },
  {
   "cell_type": "code",
   "execution_count": 9,
   "id": "b0c93c91",
   "metadata": {},
   "outputs": [],
   "source": [
    "# Here's a 3d scatter plot of the the categories.\n",
    "generateScatterPlot(\"5D-Big-5-Categories.html\", cluster_centers_df, 4, 40)"
   ]
  },
  {
   "cell_type": "code",
   "execution_count": 12,
   "id": "6857a346",
   "metadata": {},
   "outputs": [
    {
     "data": {
      "image/png": "[encoded data removed]",
      "text/plain": [
       "<Figure size 432x288 with 1 Axes>"
      ]
     },
     "metadata": {
      "needs_background": "light"
     },
     "output_type": "display_data"
    }
   ],
   "source": [
    "# But I thought a bar chart would be more readable. Stay with me here, this visualization took some effort.\n",
    "class_based_data = transformed_cluster_centers.transpose()\n",
    "width = 0.1\n",
    "num_classes = len(class_based_data[0])\n",
    "num_personality_types = 5\n",
    "plt.bar(np.arange(4), class_based_data[0], width=width)\n",
    "for x in range(1,num_personality_types):\n",
    "    plt.bar(np.arange(4) + width*x, class_based_data[x], width=width)\n",
    "class_names_pos = np.arange(num_classes) + 0.25\n",
    "plt.xticks(class_names_pos, class_names)\n",
    "plt.title('The 4 classes and their personality traits',fontsize=14)\n",
    "plt.legend(big5_df.columns, loc=4)\n",
    "plt.show()"
   ]
  },
  {
   "cell_type": "code",
   "execution_count": 11,
   "id": "3efcf5f4",
   "metadata": {},
   "outputs": [],
   "source": [
    "# How interesting! We can now see we've got 4 different kinds of people. The first one is low on all personality\n",
    "#  trait scores except for Nueroiticism (maybe not the luckiest bunch!).Then, in class 2, we've got people who are \n",
    "#  generally very extraverted, not too neutoritic, and above average in the rest. And in class 3, which is especially \n",
    "#  low in neuroticism (yay for them!) and low in the rest (although around average extraversion). Then we've got a \n",
    "#  person who's high on all fronts, except maybe not that extraverted.\n",
    "# I'm a little bit worried that the classes seem to be based on simply whether a person is high in all the traits,\n",
    "#  or low. The clusters aren't telling us much if they're just repeating what the personality scores already say!"
   ]
  },
  {
   "cell_type": "code",
   "execution_count": 14,
   "id": "8f0f3206",
   "metadata": {},
   "outputs": [],
   "source": [
    "# Because of this concern, we'll try using a different clustering model.\n",
    "# Clusters start small, and then become bigger and bigger as they're merged together. The algorithm stops when the \n",
    "#  target number of clusters is reached. This is how the dendogram was formed, with two branches coming together when\n",
    "#  two clusters are merged. 4 is our target number again.\n",
    "from sklearn.cluster import AgglomerativeClustering\n",
    "aggl_cluster = AgglomerativeClustering(n_clusters=4, affinity='euclidean', linkage='ward')\n",
    "cluster_assignments = aggl_cluster.fit_predict(big5_df)"
   ]
  },
  {
   "cell_type": "code",
   "execution_count": 15,
   "id": "17a537f2",
   "metadata": {},
   "outputs": [
    {
     "name": "stdout",
     "output_type": "stream",
     "text": [
      "[0 2 1 ... 1 1 3]\n"
     ]
    }
   ],
   "source": [
    "# We now have group assignments for each of the samples! This takes just ~20 seconds to run on my local machine.\n",
    "print(cluster_assignments)"
   ]
  },
  {
   "cell_type": "code",
   "execution_count": 34,
   "id": "46a44a28",
   "metadata": {},
   "outputs": [
    {
     "name": "stdout",
     "output_type": "stream",
     "text": [
      "[[3.0808243943593983, 2.4879595034349706, 3.1249969868627288, 3.059648065565869, 3.2890803905025794], [3.0320803295571555, 3.936251287332656, 3.3599382080329527, 3.3018537590113395, 3.4488928939237993], [2.9059618633840145, 3.3410813420226932, 3.099734491914062, 2.97197682838522, 3.1161718561428873], [3.325243004418266, 3.3169366715758577, 3.3503976435935177, 3.4419145802650957, 3.4589690721649498]]\n"
     ]
    }
   ],
   "source": [
    "# I'm interested in viewing what each cluster (potential personality type) looks like, but agglomerative clustering \n",
    "#  doesn't give us cluster centers like KMeans does. So let's calculate our own, using the average personality traits\n",
    "#  for each grouping.\n",
    "num_clusters = 4\n",
    "num_personality_traits = 5\n",
    "cluster_centers = []\n",
    "# Iterate through each cluster group.\n",
    "for cluster_num in range(0, num_clusters):\n",
    "    cluster_sum = [0,0,0,0,0]\n",
    "    num_samples_in_cluster = 0\n",
    "    for sample_index in range(0, len(big5_df)):\n",
    "        if(cluster_num == cluster_assignments[sample_index]):\n",
    "            sample_arr = np.array(big5_df.iloc[sample_index]) \n",
    "            # Store the total trait scores, tracking the number of samples as we go along.\n",
    "            cluster_sum = [cluster_sum[x] + sample_arr[x] for x in range(0, num_personality_traits)]\n",
    "            num_samples_in_cluster += 1\n",
    "    # Find the average by dividing the totals by the number of samples.\n",
    "    cluster_averages = [cluster_sum[x]/num_samples_in_cluster for x in range(0, num_personality_traits)]\n",
    "    cluster_centers.append(cluster_averages)\n",
    "print(cluster_centers)"
   ]
  },
  {
   "cell_type": "code",
   "execution_count": 36,
   "id": "f10a4d5f",
   "metadata": {},
   "outputs": [
    {
     "name": "stdout",
     "output_type": "stream",
     "text": [
      "                E         N         A         C         O\n",
      "Class 1  0.050242 -1.089004 -0.629606 -0.504289 -0.153642\n",
      "Class 2 -0.481589  1.326184  1.108406  0.699764  0.745998\n",
      "Class 3 -1.857627  0.333672 -0.816489 -0.940120 -1.127003\n",
      "Class 4  2.717014  0.293408  1.037828  1.396034  0.802720\n"
     ]
    }
   ],
   "source": [
    "# Lovely! Now let's do the same transformation we did for KMeans...\n",
    "scaler2 = StandardScaler()\n",
    "scaler2.fit(cluster_centers)\n",
    "transformed_cluster_centers2 = scaler.transform(cluster_centers)\n",
    "# Put into a dataframe for readability and plotting.\n",
    "class_names = [\"Class 1\", \"Class 2\", \"Class 3\", \"Class 4\"]\n",
    "cluster_centers_df2 = pd.DataFrame(data=transformed_cluster_centers2, index=class_names, columns=big5_df.columns)\n",
    "print(cluster_centers_df2)"
   ]
  },
  {
   "cell_type": "code",
   "execution_count": 38,
   "id": "c2b9b8f0",
   "metadata": {},
   "outputs": [
    {
     "data": {
      "image/png": "[encoded data removed]",
      "text/plain": [
       "<Figure size 432x288 with 1 Axes>"
      ]
     },
     "metadata": {
      "needs_background": "light"
     },
     "output_type": "display_data"
    }
   ],
   "source": [
    "# And a new chart... Sorry for the repeititon (most of this is copy-and-pasted.)\n",
    "class_based_data2 = transformed_cluster_centers2.transpose()\n",
    "width = 0.1\n",
    "num_classes = len(class_based_data2[0])\n",
    "plt.bar(np.arange(4), class_based_data2[0], width=width)\n",
    "for x in range(1 ,num_personality_traits):\n",
    "    plt.bar(np.arange(4) + width*x, class_based_data2[x], width=width)\n",
    "class_names_pos2 = np.arange(num_classes) + 0.25\n",
    "plt.xticks(class_names_pos2, class_names)\n",
    "plt.title('The 4 classes and their personality traits (agg)',fontsize=14)\n",
    "plt.legend(big5_df.columns, loc=\"best\")\n",
    "plt.show()"
   ]
  },
  {
   "cell_type": "code",
   "execution_count": null,
   "id": "3e1e3285",
   "metadata": {},
   "outputs": [],
   "source": [
    "# Hmm! Much more variety, and thus much more interetesting! \n",
    "# What stands out to me is the way Agreeableness, Consciousness, and Opennes tend to flow together in the classes,\n",
    "#  just like with the KMeans algorithm. This suggests Extraversion and Neuroticism form the main differentiators \n",
    "#  between groupings. This makes me want to look at the correlations between the traits, to see whether extraversion\n",
    "#  and neuroticism are the most independent variables. I have a feeling we'd see lower correlations between E/N and \n",
    "#  each of the other 4 variables, than for A/C/O and each of the other variables. "
   ]
  }
 ],
 "metadata": {
  "kernelspec": {
   "display_name": "Python 3",
   "language": "python",
   "name": "python3"
  },
  "language_info": {
   "codemirror_mode": {
    "name": "ipython",
    "version": 3
   },
   "file_extension": ".py",
   "mimetype": "text/x-python",
   "name": "python",
   "nbconvert_exporter": "python",
   "pygments_lexer": "ipython3",
   "version": "3.8.8"
  }
 },
 "nbformat": 4,
 "nbformat_minor": 5
}
